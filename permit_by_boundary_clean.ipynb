{
 "cells": [
  {
   "cell_type": "code",
   "execution_count": 3,
   "metadata": {},
   "outputs": [],
   "source": [
    "## Import Libraries\n",
    "import pandas as pd"
   ]
  },
  {
   "cell_type": "code",
   "execution_count": 4,
   "metadata": {},
   "outputs": [],
   "source": [
    "## Import Data\n",
    "df = pd.read_excel('Permits by ELEM Boundary.xlsx')"
   ]
  },
  {
   "cell_type": "code",
   "execution_count": 5,
   "metadata": {},
   "outputs": [],
   "source": [
    "## Save data as csv\n",
    "df.to_csv('Permits_by_ELEM_Boundary.csv', index=False)"
   ]
  },
  {
   "cell_type": "code",
   "execution_count": 6,
   "metadata": {},
   "outputs": [],
   "source": [
    "## Load data as csv\n",
    "df = pd.read_csv('Permits_by_ELEM_Boundary.csv')"
   ]
  },
  {
   "cell_type": "code",
   "execution_count": 7,
   "metadata": {},
   "outputs": [],
   "source": [
    "## Clean the df\n",
    "\n",
    "# Write a function that only keeps the following columns: NAME, B_NAME, CATEGORY, ADDRESS_1, YEAR, MONTH, DU, PLAN, BLG_TYPE, CONTRACTOR, DESCRIPTION\n",
    "def clean_df(df):\n",
    "    df = df[['NAME', 'B_NAME', 'CATEGORY', 'ADDRESS_1', 'YEAR', 'MONTH', 'DU', 'PLAN', 'BLG_TYPE', 'CONTRACTOR', 'DESCRIPTION']]\n",
    "    return df"
   ]
  },
  {
   "cell_type": "code",
   "execution_count": 8,
   "metadata": {},
   "outputs": [],
   "source": [
    "## Using pd.pipe(), apply the function to the df\n",
    "df = (df.pipe(clean_df)\n",
    "      )"
   ]
  },
  {
   "cell_type": "code",
   "execution_count": 9,
   "metadata": {},
   "outputs": [
    {
     "data": {
      "text/html": [
       "<div>\n",
       "<style scoped>\n",
       "    .dataframe tbody tr th:only-of-type {\n",
       "        vertical-align: middle;\n",
       "    }\n",
       "\n",
       "    .dataframe tbody tr th {\n",
       "        vertical-align: top;\n",
       "    }\n",
       "\n",
       "    .dataframe thead th {\n",
       "        text-align: right;\n",
       "    }\n",
       "</style>\n",
       "<table border=\"1\" class=\"dataframe\">\n",
       "  <thead>\n",
       "    <tr style=\"text-align: right;\">\n",
       "      <th></th>\n",
       "      <th>NAME</th>\n",
       "      <th>B_NAME</th>\n",
       "      <th>CATEGORY</th>\n",
       "      <th>ADDRESS_1</th>\n",
       "      <th>YEAR</th>\n",
       "      <th>MONTH</th>\n",
       "      <th>DU</th>\n",
       "      <th>PLAN</th>\n",
       "      <th>BLG_TYPE</th>\n",
       "      <th>CONTRACTOR</th>\n",
       "      <th>DESCRIPTION</th>\n",
       "    </tr>\n",
       "  </thead>\n",
       "  <tbody>\n",
       "    <tr>\n",
       "      <th>0</th>\n",
       "      <td>Assumption Catholic Elementary School</td>\n",
       "      <td>Assumption School</td>\n",
       "      <td>Elementary</td>\n",
       "      <td>80 BARRETTE ST</td>\n",
       "      <td>2016.0</td>\n",
       "      <td>April</td>\n",
       "      <td>1.0</td>\n",
       "      <td>101</td>\n",
       "      <td>Single</td>\n",
       "      <td>OTTAWA GENERAL CONTRACTORS</td>\n",
       "      <td>Interior alterations to the kitchen and exteri...</td>\n",
       "    </tr>\n",
       "    <tr>\n",
       "      <th>1</th>\n",
       "      <td>Assumption Catholic Elementary School</td>\n",
       "      <td>Assumption School</td>\n",
       "      <td>Elementary</td>\n",
       "      <td>50 MARK AVE</td>\n",
       "      <td>2016.0</td>\n",
       "      <td>April</td>\n",
       "      <td>1.0</td>\n",
       "      <td>29</td>\n",
       "      <td>Apartment</td>\n",
       "      <td>CONTRACTOR UNKNOWN</td>\n",
       "      <td>Interior alterations to create a new unit in t...</td>\n",
       "    </tr>\n",
       "    <tr>\n",
       "      <th>2</th>\n",
       "      <td>Assumption Catholic Elementary School</td>\n",
       "      <td>Assumption School</td>\n",
       "      <td>Elementary</td>\n",
       "      <td>300 A RICHELIEU AVE</td>\n",
       "      <td>2016.0</td>\n",
       "      <td>April</td>\n",
       "      <td>3.0</td>\n",
       "      <td>289</td>\n",
       "      <td>Rowhouse</td>\n",
       "      <td>CONTRACTOR UNKNOWN</td>\n",
       "      <td>Construct a 2 storey, 3 unit rowhouse</td>\n",
       "    </tr>\n",
       "    <tr>\n",
       "      <th>3</th>\n",
       "      <td>Assumption Catholic Elementary School</td>\n",
       "      <td>Assumption School</td>\n",
       "      <td>Elementary</td>\n",
       "      <td>546 GUY ST</td>\n",
       "      <td>2016.0</td>\n",
       "      <td>May</td>\n",
       "      <td>1.0</td>\n",
       "      <td>300</td>\n",
       "      <td>Semi - Detached</td>\n",
       "      <td>CONTRACTOR UNKNOWN</td>\n",
       "      <td>Construct a 2 storey semi-detached dwelling</td>\n",
       "    </tr>\n",
       "    <tr>\n",
       "      <th>4</th>\n",
       "      <td>Assumption Catholic Elementary School</td>\n",
       "      <td>Assumption School</td>\n",
       "      <td>Elementary</td>\n",
       "      <td>188 BARIBEAU ST</td>\n",
       "      <td>2016.0</td>\n",
       "      <td>August</td>\n",
       "      <td>3.0</td>\n",
       "      <td>M-78</td>\n",
       "      <td>Duplex</td>\n",
       "      <td>AMSTED CONSTRUCTION LTD</td>\n",
       "      <td>Construct a 2 storey triplex</td>\n",
       "    </tr>\n",
       "  </tbody>\n",
       "</table>\n",
       "</div>"
      ],
      "text/plain": [
       "                                    NAME             B_NAME    CATEGORY  \\\n",
       "0  Assumption Catholic Elementary School  Assumption School  Elementary   \n",
       "1  Assumption Catholic Elementary School  Assumption School  Elementary   \n",
       "2  Assumption Catholic Elementary School  Assumption School  Elementary   \n",
       "3  Assumption Catholic Elementary School  Assumption School  Elementary   \n",
       "4  Assumption Catholic Elementary School  Assumption School  Elementary   \n",
       "\n",
       "             ADDRESS_1    YEAR   MONTH   DU  PLAN         BLG_TYPE  \\\n",
       "0       80 BARRETTE ST  2016.0   April  1.0   101           Single   \n",
       "1          50 MARK AVE  2016.0   April  1.0    29        Apartment   \n",
       "2  300 A RICHELIEU AVE  2016.0   April  3.0   289         Rowhouse   \n",
       "3           546 GUY ST  2016.0     May  1.0   300  Semi - Detached   \n",
       "4      188 BARIBEAU ST  2016.0  August  3.0  M-78           Duplex   \n",
       "\n",
       "                   CONTRACTOR  \\\n",
       "0  OTTAWA GENERAL CONTRACTORS   \n",
       "1          CONTRACTOR UNKNOWN   \n",
       "2          CONTRACTOR UNKNOWN   \n",
       "3          CONTRACTOR UNKNOWN   \n",
       "4     AMSTED CONSTRUCTION LTD   \n",
       "\n",
       "                                         DESCRIPTION  \n",
       "0  Interior alterations to the kitchen and exteri...  \n",
       "1  Interior alterations to create a new unit in t...  \n",
       "2              Construct a 2 storey, 3 unit rowhouse  \n",
       "3        Construct a 2 storey semi-detached dwelling  \n",
       "4                       Construct a 2 storey triplex  "
      ]
     },
     "execution_count": 9,
     "metadata": {},
     "output_type": "execute_result"
    }
   ],
   "source": [
    "df.head()"
   ]
  },
  {
   "cell_type": "code",
   "execution_count": 10,
   "metadata": {},
   "outputs": [],
   "source": [
    "## Export the cleaned df to a new csv file\n",
    "df.to_csv('Permits_by_ELEM_Boundary_Cleaned.csv', index=False)"
   ]
  }
 ],
 "metadata": {
  "kernelspec": {
   "display_name": "minimal-ds",
   "language": "python",
   "name": "python3"
  },
  "language_info": {
   "codemirror_mode": {
    "name": "ipython",
    "version": 3
   },
   "file_extension": ".py",
   "mimetype": "text/x-python",
   "name": "python",
   "nbconvert_exporter": "python",
   "pygments_lexer": "ipython3",
   "version": "3.9.18"
  }
 },
 "nbformat": 4,
 "nbformat_minor": 2
}
