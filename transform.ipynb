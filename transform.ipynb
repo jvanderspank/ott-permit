{
 "cells": [
  {
   "cell_type": "code",
   "execution_count": 3,
   "metadata": {},
   "outputs": [],
   "source": [
    "# Import libraries\n",
    "import pandas as pd\n",
    "import numpy as np\n",
    "import os"
   ]
  },
  {
   "cell_type": "code",
   "execution_count": 4,
   "metadata": {},
   "outputs": [],
   "source": [
    "# Convert the Excel files in the permit-data folder to CSV files\n",
    "\n",
    "# Set the path to the folder with the Excel files\n",
    "path = 'permit-data'\n",
    "\n",
    "# Get a list of the Excel files in the folder\n",
    "files = os.listdir(path)\n",
    "\n",
    "# Loop through the files\n",
    "for file in files:\n",
    "    # Read the Excel file\n",
    "    df = pd.read_excel(path + '/' + file)\n",
    "    \n",
    "    # Get the name of the file without the extension\n",
    "    name = file.split('.')[0]\n",
    "    \n",
    "    # Write the CSV file\n",
    "    df.to_csv('permit-data/' + name + '.csv', index = False)"
   ]
  },
  {
   "cell_type": "code",
   "execution_count": null,
   "metadata": {},
   "outputs": [],
   "source": []
  }
 ],
 "metadata": {
  "kernelspec": {
   "display_name": "minimal-ds",
   "language": "python",
   "name": "python3"
  },
  "language_info": {
   "codemirror_mode": {
    "name": "ipython",
    "version": 3
   },
   "file_extension": ".py",
   "mimetype": "text/x-python",
   "name": "python",
   "nbconvert_exporter": "python",
   "pygments_lexer": "ipython3",
   "version": "3.9.15"
  },
  "orig_nbformat": 4
 },
 "nbformat": 4,
 "nbformat_minor": 2
}
